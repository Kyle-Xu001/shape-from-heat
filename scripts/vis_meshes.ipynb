{
 "cells": [
  {
   "attachments": {},
   "cell_type": "markdown",
   "metadata": {},
   "source": [
    "# Headers"
   ]
  },
  {
   "cell_type": "code",
   "execution_count": 1,
   "metadata": {},
   "outputs": [],
   "source": [
    "import pickle\n",
    "import numpy as np\n",
    "from IPython.display import display\n",
    "import os\n",
    "import glob\n",
    "from ipywidgets import interact, widgets\n",
    "from IPython.display import display\n",
    "import pyvista as pv\n",
    "from matplotlib import pyplot as plt\n",
    "from scipy.linalg import lstsq\n",
    "import igl\n",
    "from matplotlib import cm\n",
    "import polyscope as ps\n"
   ]
  },
  {
   "attachments": {},
   "cell_type": "markdown",
   "metadata": {},
   "source": [
    "# Macros"
   ]
  },
  {
   "cell_type": "code",
   "execution_count": 2,
   "metadata": {},
   "outputs": [],
   "source": [
    "workspace_path = os.path.dirname(os.path.dirname(os.path.abspath(\"__file__\")))\n",
    "import sys\n",
    "sys.path.append(workspace_path)\n",
    "import meshplot as mp\n",
    "from lib.utils import *\n",
    "\n",
    "\n",
    "code_file = 'real_data_opti'\n",
    "\n",
    "meshes_path = os.path.join(workspace_path, \"results\", code_file)\n",
    "shading_params = {\n",
    "    \"width\": 600, \"height\": 600,\n",
    "    \"antialias\": True,\n",
    "    \"colormap\": \"viridis\",\n",
    "    \"wireframe\": False, \"wire_width\": 0.03, \"wire_color\": \"black\",\n",
    "    \"line_color\": \"red\",\n",
    "} "
   ]
  },
  {
   "cell_type": "code",
   "execution_count": 3,
   "metadata": {},
   "outputs": [
    {
     "data": {
      "application/vnd.jupyter.widget-view+json": {
       "model_id": "4031ff532f1f4bee8ebd519686de5ace",
       "version_major": 2,
       "version_minor": 0
      },
      "text/plain": [
       "VBox(children=(Checkbox(value=True, description='Only Last 5 runs?', layout=Layout(width='100%')), Checkbox(va…"
      ]
     },
     "metadata": {},
     "output_type": "display_data"
    }
   ],
   "source": [
    "latest_runs_only = widgets.Checkbox(description='Only Last 5 runs?', value=True, layout=widgets.Layout(width='100%'))\n",
    "visualize_gauss_curv = widgets.Checkbox(description='Visualize Gauss Curvature?', value=False, layout=widgets.Layout(width='100%'))\n",
    "plot_gauss_pos_neg = widgets.Checkbox(description='Plot Gauss Curvature Pos/Neg?', value=True, layout=widgets.Layout(width='100%'))\n",
    "show_normals = widgets.Checkbox(description='Show Normals?', value=False, layout=widgets.Layout(width='100%'))\n",
    "display(widgets.VBox([latest_runs_only, visualize_gauss_curv, plot_gauss_pos_neg, show_normals]))"
   ]
  },
  {
   "cell_type": "markdown",
   "metadata": {},
   "source": [
    "# Read Files"
   ]
  },
  {
   "cell_type": "code",
   "execution_count": 4,
   "metadata": {},
   "outputs": [
    {
     "data": {
      "application/vnd.jupyter.widget-view+json": {
       "model_id": "cff16e4de5e3424f8b646fb3f00ec666",
       "version_major": 2,
       "version_minor": 0
      },
      "text/plain": [
       "VBox(children=(Checkbox(value=False, description='bear-v34-0-left-rad1-tlin0-2023-10-16_13-14-39-test-v1.pkl',…"
      ]
     },
     "metadata": {},
     "output_type": "display_data"
    }
   ],
   "source": [
    "# read files based on last created\n",
    "all_pkl_files = glob.glob(os.path.join(meshes_path, \"*.pkl\"))\n",
    "all_pkl_files.sort(key=os.path.getmtime)\n",
    "\n",
    "if latest_runs_only.value:\n",
    "    all_pkl_files = all_pkl_files[-5:]\n",
    "num_cols = 3\n",
    "num_rows = (len(all_pkl_files) // num_cols) + 1\n",
    "\n",
    "all_dicts = []\n",
    "dict_name = []\n",
    "for pkl_file in all_pkl_files:\n",
    "    try:\n",
    "        dict_name.append(os.path.basename(pkl_file))\n",
    "    except Exception as e:\n",
    "        print(e, pkl_file)\n",
    "# print(os.listdir(meshes_path))\n",
    "\n",
    "# Create a widget with checkboxes for each mesh default is false\n",
    "checkboxes = [widgets.Checkbox(description=name, value=False, layout=widgets.Layout(width='100%')) for name in dict_name]\n",
    "display(widgets.VBox(checkboxes))"
   ]
  },
  {
   "cell_type": "markdown",
   "metadata": {},
   "source": [
    "# Visualize Meshes"
   ]
  },
  {
   "cell_type": "markdown",
   "metadata": {},
   "source": [
    "## Slide through optimization"
   ]
  },
  {
   "cell_type": "code",
   "execution_count": 10,
   "metadata": {},
   "outputs": [
    {
     "data": {
      "application/vnd.jupyter.widget-view+json": {
       "model_id": "f53c90b64fa649eeb9297ebaba5fedfd",
       "version_major": 2,
       "version_minor": 0
      },
      "text/plain": [
       "interactive(children=(IntSlider(value=0, description='it', max=20), Output()), _dom_classes=('widget-interact'…"
      ]
     },
     "metadata": {},
     "output_type": "display_data"
    }
   ],
   "source": [
    "all_dicts = []\n",
    "for pkl_file in all_pkl_files:\n",
    "    try:\n",
    "        if checkboxes[all_pkl_files.index(pkl_file)].value:\n",
    "            with open(pkl_file, 'rb') as f:\n",
    "                mesh_dict = pickle.load(f)\n",
    "                all_dicts.append(mesh_dict)\n",
    "        else:\n",
    "            all_dicts.append({})\n",
    "    except Exception as e:\n",
    "        print(e, pkl_file)\n",
    "        \n",
    "max_iterations = max([len(mesh_dict['verts_seq']) for i, mesh_dict in enumerate(all_dicts) if checkboxes[i].value])\n",
    "count_checboxes = sum([checkbox.value for checkbox in checkboxes])\n",
    "mp_plot = None  \n",
    "plotted_once = [False for _ in range(count_checboxes)]\n",
    "face_counter = [0 for _ in range(count_checboxes)]\n",
    "last_num_verts = [None for _ in range(count_checboxes)]\n",
    "\n",
    "num_cols = 3\n",
    "num_rows = (count_checboxes // num_cols) + 1\n",
    "last_it = 0\n",
    "\n",
    "gauss_curv_thresh = -0.007\n",
    "@interact(it=widgets.IntSlider(min=0, max=max_iterations-1, step=1, value=0))\n",
    "def plot_verts(it):\n",
    "    global mp_plot, last_it\n",
    "    ck_itr = 0\n",
    "\n",
    "    if visualize_gauss_curv:\n",
    "        color_map = cm.ScalarMappable(cmap='coolwarm')\n",
    "        color_map.set_clim(-0.005, 0.005)\n",
    "                \n",
    "    for i, mesh_dict in enumerate(all_dicts):\n",
    "        if not checkboxes[i].value:\n",
    "            continue\n",
    "        v_numpy = mesh_dict['verts_seq']\n",
    "        faces_idx_sim = mesh_dict['faces']\n",
    "        colors = None\n",
    "        if not isinstance(faces_idx_sim, list):\n",
    "            faces_idx_sim = [faces_idx_sim]\n",
    "        if mp_plot is None:\n",
    "            if visualize_gauss_curv.value:\n",
    "                gcurv = igl.gaussian_curvature(v_numpy[it], faces_idx_sim[face_counter[ck_itr]])\n",
    "                if plot_gauss_pos_neg.value:\n",
    "                    gcurv[gcurv < gauss_curv_thresh] = -1\n",
    "                    gcurv[gcurv > gauss_curv_thresh] = 1\n",
    "                colors = color_map.to_rgba(gcurv)[:, :3]\n",
    "            mp_plot = mp.subplot(v_numpy[it], faces_idx_sim[face_counter[ck_itr]], c=colors, shading=shading_params, s=[num_rows, num_cols, ck_itr], label=f'{dict_name[i]}')\n",
    "\n",
    "            if show_normals.value:\n",
    "                verts_normals = compute_vertex_normals_numpy(v_numpy[it]*1000.0, faces_idx_sim[face_counter[ck_itr]])\n",
    "                mp_plot.add_lines_to_subplot(s=[num_rows, num_cols, ck_itr], beginning=v_numpy[it] + verts_normals * 0.0, ending=v_numpy[it] + verts_normals * 0.01, shading=shading_params)\n",
    "\n",
    "            last_num_verts[ck_itr] = v_numpy[it].shape[0]\n",
    "            plotted_once[ck_itr] = True\n",
    "        elif not plotted_once[ck_itr] or last_num_verts[ck_itr] != v_numpy[it].shape[0]:\n",
    "            face_counter[ck_itr] = np.argmin([np.abs(np.unique(faces_idx_sim[k]).shape[0] - v_numpy[it].shape[0]) for k in range(len(faces_idx_sim))])\n",
    "            \n",
    "            if visualize_gauss_curv.value:\n",
    "                gcurv = igl.gaussian_curvature(v_numpy[it], faces_idx_sim[face_counter[ck_itr]])\n",
    "                if plot_gauss_pos_neg.value:\n",
    "                    gcurv[gcurv < gauss_curv_thresh] = -1\n",
    "                    gcurv[gcurv > gauss_curv_thresh] = 1\n",
    "                colors = color_map.to_rgba(gcurv)[:, :3]\n",
    "            mp.subplot(v_numpy[it], faces_idx_sim[face_counter[ck_itr]], c=colors, shading=shading_params, s=[num_rows, num_cols, ck_itr], data=mp_plot, label=f'{dict_name[i]}')\n",
    "            plotted_once[ck_itr] = True\n",
    "            last_num_verts[ck_itr] = v_numpy[it].shape[0]\n",
    "            \n",
    "            if show_normals.value:\n",
    "                verts_normals = compute_vertex_normals_numpy(v_numpy[it]*1000.0, faces_idx_sim[face_counter[ck_itr]])\n",
    "                mp_plot.add_lines_to_subplot(s=[num_rows, num_cols, ck_itr], beginning=v_numpy[it] + verts_normals * 0.0, ending=v_numpy[it] + verts_normals * 0.01, shading=shading_params)\n",
    "\n",
    "        elif it < len(v_numpy):\n",
    "            if visualize_gauss_curv.value:\n",
    "                gcurv = igl.gaussian_curvature(v_numpy[it], faces_idx_sim[face_counter[ck_itr]])\n",
    "                if plot_gauss_pos_neg.value:\n",
    "                    gcurv[gcurv < gauss_curv_thresh] = -1\n",
    "                    gcurv[gcurv > gauss_curv_thresh] = 1\n",
    "                colors = color_map.to_rgba(gcurv)[:, :3]\n",
    "            mp_plot.update_object(s=[num_rows, num_cols, ck_itr], v=v_numpy[it], c=colors)\n",
    "            if show_normals.value:\n",
    "                verts_normals = compute_vertex_normals_numpy(v_numpy[it]*1000.0, faces_idx_sim[face_counter[ck_itr]])\n",
    "                mp_plot.remove_object_type(s=[num_rows, num_cols, ck_itr], obj_type='Lines')\n",
    "                mp_plot.add_lines_to_subplot(s=[num_rows, num_cols, ck_itr], beginning=v_numpy[it] + verts_normals * 0.0, ending=v_numpy[it] + verts_normals * 0.01, shading=shading_params)\n",
    "\n",
    "        ck_itr += 1 \n",
    "        last_it = it"
   ]
  },
  {
   "cell_type": "markdown",
   "metadata": {},
   "source": [
    "## Display last frame"
   ]
  },
  {
   "cell_type": "code",
   "execution_count": null,
   "metadata": {},
   "outputs": [],
   "source": [
    "shading_params_last = {\n",
    "    \"width\": 600, \"height\": 600,\n",
    "    \"antialias\": True,\n",
    "    \"colormap\": \"viridis\",\n",
    "    \"wireframe\": False, \"wire_width\": 0.03, \"wire_color\": \"black\",\n",
    "    \"line_color\": \"red\",\n",
    "} \n",
    "\n",
    "all_dicts = []\n",
    "for pkl_file in all_pkl_files:\n",
    "    try:\n",
    "        if checkboxes[all_pkl_files.index(pkl_file)].value:\n",
    "            with open(pkl_file, 'rb') as f:\n",
    "                mesh_dict = pickle.load(f)\n",
    "                all_dicts.append(mesh_dict)\n",
    "        else:\n",
    "            all_dicts.append({})\n",
    "    except Exception as e:\n",
    "        print(e, pkl_file)\n",
    "        \n",
    "# vis_frame_nos = [999, 1999, 2999]\n",
    "vis_frame_nos = [-1]\n",
    "use_face_idx = -1\n",
    "for vis_frame_no in vis_frame_nos:\n",
    "    print(\"Vis_frame_no:\", vis_frame_no)\n",
    "    for i, mesh_dict in enumerate(all_dicts):\n",
    "            if not checkboxes[i].value:\n",
    "                continue\n",
    "            v_numpy = np.array(mesh_dict['verts_seq'])\n",
    "            print(os.path.basename(all_pkl_files[i]))\n",
    "            print(\"Max - Min :\", v_numpy[vis_frame_no].max(0) - v_numpy[vis_frame_no].min(0))\n",
    "            print(\"Axis Max val:\", v_numpy[vis_frame_no].max(0))\n",
    "            print(\"Axis Min val:\", v_numpy[vis_frame_no].min(0))\n",
    "            print(\"*************\")\n",
    "            faces_idx_sim = mesh_dict['faces']\n",
    "            if not isinstance(faces_idx_sim, list):\n",
    "                faces_idx_sim = [faces_idx_sim]\n",
    "            faces_break_loc = [0]\n",
    "            last_vert_size = v_numpy[0].shape[0]\n",
    "            if use_face_idx is None:\n",
    "                for k in range(1, v_numpy.shape[0]):\n",
    "                    if v_numpy[k].shape[0] != last_vert_size:\n",
    "                        faces_break_loc.append(k)\n",
    "                        last_vert_size = v_numpy[k].shape[0]\n",
    "                    if v_numpy[vis_frame_no].shape[0] == v_numpy[k].shape[0]:\n",
    "                        face_idx = len(faces_break_loc) - 1\n",
    "                        break\n",
    "            else:\n",
    "                face_idx = use_face_idx\n",
    "            mp.plot(v_numpy[vis_frame_no]*10, faces_idx_sim[face_idx], shading=shading_params_last)\n"
   ]
  },
  {
   "cell_type": "code",
   "execution_count": null,
   "metadata": {},
   "outputs": [],
   "source": [
    "for i, mesh_dict in enumerate(all_dicts):\n",
    "    if not checkboxes[i].value:\n",
    "        continue\n",
    "    v_numpy = np.array(mesh_dict['verts_seq'])\n",
    "    faces_idx_sim = mesh_dict['faces']\n",
    "    # do a matplotlib plot of how min and max values change over time on two side by side plots\n",
    "    fig, axs = plt.subplots(1, 2, figsize=(10, 5))\n",
    "    min_xyz_t = np.min(v_numpy, axis=1)\n",
    "    max_xyz_t = np.max(v_numpy, axis=1)\n",
    "    axs[0].plot(min_xyz_t[:, 0], label='min x')\n",
    "    axs[0].plot(min_xyz_t[:, 1], label='min y')\n",
    "    axs[0].plot(min_xyz_t[:, 2], label='min z')\n",
    "    axs[0].legend()\n",
    "    axs[1].plot(max_xyz_t[:, 0], label='max x')\n",
    "    axs[1].plot(max_xyz_t[:, 1], label='max y')\n",
    "    axs[1].plot(max_xyz_t[:, 2], label='max z')\n",
    "    axs[1].legend()\n",
    "    plt.show()"
   ]
  },
  {
   "cell_type": "markdown",
   "metadata": {},
   "source": [
    "## Polyscope Save Animation"
   ]
  },
  {
   "cell_type": "code",
   "execution_count": null,
   "metadata": {},
   "outputs": [],
   "source": [
    "ps.init()\n",
    "for i, mesh_dict in enumerate(all_dicts):\n",
    "\tif not checkboxes[i].value:\n",
    "\t\tcontinue\n",
    "\tv_numpy = mesh_dict['verts_seq']\n",
    "\tfaces_idx_sim = mesh_dict['faces']\n",
    "\tcolors = None\n",
    "\tif not isinstance(faces_idx_sim, list):\n",
    "\t\tfaces_idx_sim = [faces_idx_sim]\n",
    "\t\n",
    "\tps.register_surface_mesh(\"Mesh\", v_numpy[-1], faces_idx_sim[-1], material='ceramic')\n",
    "\t\t\n",
    "\tps.look_at([-1, 2, -1], [0, 0, 0])\n",
    "\timg_filename  = dict_name[i].split('.pkl')[0]\n",
    "\tbase_path = os.path.join(workspace_path, \"results\", 'poly_imgs', code_file)\n",
    "\tos.makedirs(base_path, exist_ok=True)\n",
    "\tps.screenshot(os.path.join(base_path, img_filename + \".png\"))"
   ]
  },
  {
   "attachments": {},
   "cell_type": "markdown",
   "metadata": {},
   "source": [
    "# Vis Texture Optimization"
   ]
  },
  {
   "cell_type": "code",
   "execution_count": null,
   "metadata": {},
   "outputs": [],
   "source": [
    "for i, checkbox in enumerate(checkboxes):\n",
    "    if checkbox.value:\n",
    "        moi_dict = all_dicts[i]\n",
    "\n",
    "print(moi_dict.keys())\n",
    "diffusion_sim_img = moi_dict['diffusion_sim_img'].transpose(0, 3, 1, 2)\n",
    "diffusion_gt_img = moi_dict['diffusion_gt_img'].transpose(0, 3, 1, 2)\n",
    "print(diffusion_sim_img.shape, diffusion_gt_img.shape)\n",
    "\n",
    "plt.close('all')\n",
    "fig = plt.figure(figsize=(15, 10))\n",
    "# Use a slider and plot heat flow at different time steps for u_real_pixels_msize using matplotlib\n",
    "# Update matplotlib plot with new heat values based on slider value\n",
    "ax = fig.add_subplot(1, 3, 1)\n",
    "ax2 = fig.add_subplot(1, 3, 2)\n",
    "ax3 = fig.add_subplot(1, 3, 3)\n",
    "ax.imshow(diffusion_gt_img[0, 0], cmap='hot')\n",
    "ax2.imshow(diffusion_sim_img[0, 0], cmap='hot')\n",
    "ax3.imshow(np.abs(diffusion_gt_img[0, 0] - diffusion_sim_img[0, 0]), cmap='hot')\n",
    "\n",
    "def update(val):\n",
    "    ax.clear()\n",
    "    ax.imshow(diffusion_gt_img[0, int(val)], cmap='hot', vmin=0, vmax=1)\n",
    "    ax2.imshow(diffusion_sim_img[0,int(val)], cmap='hot',vmin=0, vmax=1)\n",
    "    ax3.imshow(np.abs(diffusion_gt_img[0, int(val)] - diffusion_sim_img[0, int(val)]), cmap='hot')\n",
    "    ax.set_title('Heat flow at t = {}'.format(int(val)))\n",
    "    fig.canvas.draw()\n",
    "    display(fig)\n",
    "\n",
    "\n",
    "interact(update, val=widgets.IntSlider(min=0, max=diffusion_gt_img.shape[1]-1, step=1, value=0))"
   ]
  },
  {
   "attachments": {},
   "cell_type": "markdown",
   "metadata": {},
   "source": [
    "# Create GIFs of the meshes"
   ]
  },
  {
   "cell_type": "code",
   "execution_count": null,
   "metadata": {},
   "outputs": [],
   "source": [
    "# pv.start_xvfb(wait=0.1)\n",
    "# print(pv.OFF_SCREEN)\n",
    "# p = pv.Plotter(notebook=True)"
   ]
  },
  {
   "cell_type": "code",
   "execution_count": null,
   "metadata": {},
   "outputs": [],
   "source": [
    "\n",
    "# for i, mesh_dict in enumerate(all_dicts):\n",
    "#     if not checkboxes[i].value:\n",
    "#         continue\n",
    "#     plotter = pv.Plotter()\n",
    "#     v_numpy = mesh_dict['verts_seq']\n",
    "#     faces_idx_sim = mesh_dict['faces']\n",
    "#     gif_path = os.path.join(meshes_path, dict_name[i].split('.')[0])\n",
    "#     # plotter.open_gif(f'{gif_path}.gif')\n",
    "#     plotter.open_movie(f'{gif_path}.mp4')\n",
    "#     for k in range(v_numpy.shape[0]):\n",
    "#         plotter.clear()\n",
    "#         plotter.add_mesh(pv.PolyData(v_numpy[k], faces_idx_sim), show_edges=True)\n",
    "#         plotter.write_frame()\n",
    "#     plotter.close()"
   ]
  },
  {
   "attachments": {},
   "cell_type": "markdown",
   "metadata": {},
   "source": [
    "# Fit Plane to Points"
   ]
  },
  {
   "cell_type": "code",
   "execution_count": null,
   "metadata": {},
   "outputs": [],
   "source": [
    "def fit_plane_to_points(points):\n",
    "    # Prepare the data for linear regression (plane fitting)\n",
    "    A = np.c_[points[:, 0], points[:, 1], np.ones(points.shape[0])]\n",
    "    b = points[:, 2]\n",
    "\n",
    "    # Perform linear regression to find coefficients for the plate equation: ax + by + c = z\n",
    "    coefficients, _, _, _ = lstsq(A, b)\n",
    "\n",
    "    # Unpack the coefficients\n",
    "    a, b, c, = coefficients\n",
    "\n",
    "    return a, b, c"
   ]
  },
  {
   "cell_type": "code",
   "execution_count": null,
   "metadata": {},
   "outputs": [],
   "source": [
    "img_size = (128, 160)"
   ]
  },
  {
   "cell_type": "code",
   "execution_count": null,
   "metadata": {},
   "outputs": [],
   "source": [
    "for i, mesh_dict in enumerate(all_dicts):\n",
    "    if not checkboxes[i].value:\n",
    "        continue\n",
    "    v_numpy = np.array(mesh_dict['verts_seq'])\n",
    "\n",
    "    # Fit a plane to the points\n",
    "    a, b, c = fit_plane_to_points(v_numpy[-1])\n",
    "\n",
    "    # Calculate the rms error of the plane fit\n",
    "    dist_calc = (v_numpy[-1][:, 0] * a + v_numpy[-1][:, 1] * b + c - v_numpy[-1][:, 2]) ** 2\n",
    "    rms_error = np.sqrt(np.mean(dist_calc))\n",
    "\n",
    "    plt.figure(figsize=(10, 10))\n",
    "    vnp = v_numpy[-1] * 64\n",
    "    # Plot dist_calc as a heatmap\n",
    "    xmin = vnp[:, 0].min()\n",
    "    xmax = vnp[:, 0].max()\n",
    "    ymin = vnp[:, 1].min()\n",
    "    ymax = vnp[:, 1].max()\n",
    "    tmpimg = np.zeros((int(xmax - xmin), int(ymax - ymin)))\n",
    "    tmpimg[vnp[:, 0].astype(int) - int(xmin), vnp[:, 1].astype(int) - int(ymin)] = dist_calc\n",
    "    plt.imshow(tmpimg, cmap='hot')\n",
    "    plt.colorbar()\n",
    "    plt.title(f'RMS error: {rms_error}')\n",
    "    plt.show()"
   ]
  }
 ],
 "metadata": {
  "kernelspec": {
   "display_name": "pytorch3d",
   "language": "python",
   "name": "python3"
  },
  "language_info": {
   "codemirror_mode": {
    "name": "ipython",
    "version": 3
   },
   "file_extension": ".py",
   "mimetype": "text/x-python",
   "name": "python",
   "nbconvert_exporter": "python",
   "pygments_lexer": "ipython3",
   "version": "3.9.16"
  },
  "orig_nbformat": 4,
  "vscode": {
   "interpreter": {
    "hash": "c21fd4a275130b9261115b0246ac53a7fc9043c818d241ef7ce4dbe51512ba03"
   }
  }
 },
 "nbformat": 4,
 "nbformat_minor": 2
}
