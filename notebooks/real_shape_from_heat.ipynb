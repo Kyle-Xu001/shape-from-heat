{
 "cells": [
  {
   "attachments": {},
   "cell_type": "markdown",
   "metadata": {},
   "source": [
    "Shape Recovery from Real Data"
   ]
  },
  {
   "attachments": {},
   "cell_type": "markdown",
   "metadata": {},
   "source": [
    "# Headers"
   ]
  },
  {
   "cell_type": "code",
   "execution_count": 80,
   "metadata": {},
   "outputs": [],
   "source": [
    "import numpy as np\n",
    "import cv2\n",
    "from ipywidgets import interact, widgets\n",
    "from IPython.display import display\n",
    "import torch\n",
    "import torch.utils.tensorboard as tb\n",
    "from tqdm import tqdm\n",
    "import os\n",
    "\n",
    "import copy\n",
    "import time\n",
    "import pickle as pkl\n",
    "from matplotlib import pyplot as plt\n",
    "from pytorch3d.renderer import (\n",
    "    FoVOrthographicCameras, look_at_view_transform,\n",
    ")"
   ]
  },
  {
   "cell_type": "code",
   "execution_count": 81,
   "metadata": {},
   "outputs": [],
   "source": [
    "workspace_path = os.path.dirname(os.path.dirname(os.path.abspath(\"__file__\")))\n",
    "\n",
    "import sys\n",
    "sys.path.append(workspace_path)\n",
    "\n",
    "import types\n",
    "from lib.utils import (\n",
    "    plt_plot_first_nimages,\n",
    "    temp2counts,\n",
    "    counts2temp,\n",
    "    get_perspective_camera,\n",
    ")\n",
    "import lib\n",
    "from lib import runShapeOptimization\n",
    "import lib.constants as constants\n",
    "\n",
    "filename = 'real_data_opti'\n",
    "experiments_file = 'real_experiments_log'\n",
    "# Set numpy random seed\n",
    "np.random.seed(42)"
   ]
  },
  {
   "cell_type": "code",
   "execution_count": 82,
   "metadata": {},
   "outputs": [],
   "source": [
    "if torch.cuda.is_available():\n",
    "    device = torch.device(\"cuda:0\")\n",
    "    torch.set_default_tensor_type(torch.cuda.FloatTensor)\n",
    "    # torch.set_default_tensor_type(torch.cuda.DoubleTensor)\n",
    "else:\n",
    "    device = torch.device(\"cpu\")\n",
    "    print(\"WARNING: CPU only, this will be slow!\")\n"
   ]
  },
  {
   "cell_type": "markdown",
   "metadata": {},
   "source": [
    "# Macros"
   ]
  },
  {
   "cell_type": "code",
   "execution_count": 101,
   "metadata": {},
   "outputs": [
    {
     "name": "stdout",
     "output_type": "stream",
     "text": [
      "FOCUS_DISTANCE set:  444.5\n"
     ]
    }
   ],
   "source": [
    "params_dict = {\n",
    "    'optimize_MinvL': 0,\n",
    "    \n",
    "    'max_img_size': (192, 240),\n",
    "    # 'start_img_size': (32, 40),\n",
    "    'start_img_size': (64, 80),\n",
    "    # 'max_img_size': (256, 320),\n",
    "    'NUM_BG_FRAMES': 10,\n",
    "    'NUM_FRAME_DELTA': 10,\n",
    "    'offset_roi_to_amb': 1,\n",
    "    'obj_dist': 0.4445, #0.3683,\n",
    "    'zfar': 0.4845, #0.4762, #0.40,\n",
    "    'znear': 0.4045, #0.4128, #0.3366,\n",
    "    'limit_zvals': 0,\n",
    "\n",
    "    'add_origverts_to_initmesh': 1,\n",
    "    'ADD_RADIATION': 1,\n",
    "    'ADD_CONVECTION': 1,\n",
    "    'use_orthographic_cam_opti': 0,\n",
    "    \n",
    "    # Things to optimize for?\n",
    "    'optim_shape': 1,\n",
    "    'optim_heat_vals': 1,\n",
    "    'optim_heat_vals_all_vertices': 1,\n",
    "    'optim_heat_source': 1,\n",
    "    'optim_scale_factor': 0,\n",
    "    'optim_MinvL': 1,\n",
    "    'optim_heat_capacity': 1,\n",
    "    'optim_convection_coeff': 1,\n",
    "    \n",
    "    'optim_scale_factor': 0,\n",
    "    'optim_thermal_diff': 0,\n",
    "    'optim_thermal_cond' : 0,\n",
    "    \n",
    "    'normalize_pde_diff': 0,\n",
    "    'reg_for_optim_MinvL': 0,\n",
    "    \n",
    "    # If heating is from a light source, then we can use the shading constraint\n",
    "    'use_shading_constraint': 1,\n",
    "    'light_directions': [[50.0, 0.0, 50.0]],\n",
    "    'use_normal_halfspace_constraint': 1,\n",
    "    'eps_for_halfspace_const': 0.10,\n",
    "    \n",
    "    'save_frame_for_normal_const': 0,\n",
    "    'use_normal_constraint_from_videos': 0,\n",
    "    \n",
    "    'depth_onlyfor_interior': 0,\n",
    "\n",
    "    'use_image_symmetry_constraint': 1,\n",
    "    'symmetric_about_axis': 1,\n",
    "\n",
    "    'init_mesh_from_mask': 1,\n",
    "    'init_mesh_as_cylindrical': 0,\n",
    "    'init_mesh_as_spherical': 0,\n",
    "    \n",
    "    'heat_mapping_one2one': 1,\n",
    "    'unproject_and_update': 1,\n",
    "    'num_views': 1,\n",
    "    'SURFACE_THICKNESS': 3e-6, #0.0003,  # mm,\n",
    "    'use_symmetry_for_backside': 0,\n",
    "    'use_same_mask_for_all_videos': 0,\n",
    "    'front_back_videos': 0,\n",
    "    'obj_material': 'polystyrene',\n",
    "    'num_files': 1,\n",
    "    'device': device,\n",
    "    'filename' : filename,\n",
    "    'obj_name': 'real_data',\n",
    "    'filter_data': 0,\n",
    "    'split_final_stage_opti': 1,\n",
    "    'normal_const_heatmap_ids': [0, 1],\n",
    "    'workspace_path': workspace_path,\n",
    "}\n",
    "\n",
    "params = types.SimpleNamespace(**params_dict)\n",
    "# Set the focus plane distance\n",
    "constants.set_focus_distance(params.obj_dist * 1000.0)"
   ]
  },
  {
   "attachments": {},
   "cell_type": "markdown",
   "metadata": {},
   "source": [
    "# Load Video"
   ]
  },
  {
   "cell_type": "code",
   "execution_count": 103,
   "metadata": {},
   "outputs": [
    {
     "ename": "AttributeError",
     "evalue": "'types.SimpleNamespace' object has no attribute 'opt_MinvL'",
     "output_type": "error",
     "traceback": [
      "\u001b[0;31m---------------------------------------------------------------------------\u001b[0m",
      "\u001b[0;31mAttributeError\u001b[0m                            Traceback (most recent call last)",
      "Cell \u001b[0;32mIn[103], line 43\u001b[0m\n\u001b[1;32m     41\u001b[0m params\u001b[38;5;241m.\u001b[39mC \u001b[38;5;241m=\u001b[39m constants\u001b[38;5;241m.\u001b[39mSpecificHeat[params\u001b[38;5;241m.\u001b[39mobj_material]\n\u001b[1;32m     42\u001b[0m params\u001b[38;5;241m.\u001b[39mABS \u001b[38;5;241m=\u001b[39m constants\u001b[38;5;241m.\u001b[39mAbsorptivity[params\u001b[38;5;241m.\u001b[39mobj_material]\n\u001b[0;32m---> 43\u001b[0m \u001b[38;5;28mprint\u001b[39m(\u001b[43mparams\u001b[49m\u001b[38;5;241;43m.\u001b[39;49m\u001b[43mopt_MinvL\u001b[49m)\n",
      "\u001b[0;31mAttributeError\u001b[0m: 'types.SimpleNamespace' object has no attribute 'opt_MinvL'"
     ]
    }
   ],
   "source": [
    "\n",
    "video_filenames = [\"bear-v34-0-left-rad1-tlin0-2023-10-16_13-14-39.npz\",\n",
    "                   \"bear-v34-1-right-rad1-tlin0-2023-10-16_13-07-11.npz\"]\n",
    "\n",
    "\n",
    "invert_xaxis_vid = False\n",
    "\n",
    "light_directions = [\n",
    "    [-0.1439466386421813, -0.44995416229615315, 0.8813742775098354],\n",
    "    # [-0.17970768255923059, 0.3852157449278193, 0.905159642653657],\n",
    "]\n",
    "# video_view_num = [0,0]\n",
    "video_view_num = [0 for i in range(len(video_filenames))]\n",
    "\n",
    "video_hs_id = [0, 1, 2, 3]\n",
    "# light_xhalfspace_loc = [0, 0, -1, 1]\n",
    "light_xhalfspace_loc = [-1, 1]\n",
    "params.obj_material = \"polystyrene\"\n",
    "light_yhalfspace_loc = [1, -1]\n",
    "\n",
    "\n",
    "views_azim_angles = [0]\n",
    "views_elev_angles = [0]\n",
    "\n",
    "params.use_symmetry_for_backside = 0\n",
    "params.front_back_videos = 0\n",
    "\n",
    "##############################################################################################################\n",
    "# params.SURFACE_THICKNESS = 0.1 #mm\n",
    "params.num_files = len(video_filenames)\n",
    "params.num_views = np.unique(video_view_num).shape[0]\n",
    "\n",
    "params.light_directions = light_directions\n",
    "params.obj_name = video_filenames[0].split('.')[0]\n",
    "if params.use_symmetry_for_backside:\n",
    "    params.num_views = 2\n",
    "\n",
    "\n",
    "# Marcos\n",
    "params.K = constants.TDiff[params.obj_material]  # Thermal diffusivity\n",
    "params.RHO = constants.Density[params.obj_material]\n",
    "params.C = constants.SpecificHeat[params.obj_material]\n",
    "params.ABS = constants.Absorptivity[params.obj_material]\n"
   ]
  },
  {
   "cell_type": "markdown",
   "metadata": {},
   "source": [
    "## Read Frames"
   ]
  },
  {
   "cell_type": "code",
   "execution_count": 108,
   "metadata": {},
   "outputs": [
    {
     "name": "stderr",
     "output_type": "stream",
     "text": [
      "100%|████████████████████████████████████████████████| 2/2 [00:00<00:00,  2.67it/s]\n"
     ]
    }
   ],
   "source": [
    "frame_recording = []\n",
    "bg_recording = []\n",
    "for video_filename in tqdm(video_filenames):\n",
    "    if params.optim_MinvL or params.save_frame_for_normal_const:\n",
    "        if not params.filter_data:\n",
    "            data = np.load(os.path.join(workspace_path, 'DATA', 'object_study_raw', video_filename), allow_pickle=True)\n",
    "        else:\n",
    "            data = np.load(os.path.join(workspace_path, 'DATA', 'obj_study_smooth', video_filename), allow_pickle=True)\n",
    "        recording = data[\"frame_recording\"]\n",
    "        if len(recording.shape) == 3:\n",
    "            recording = recording[np.newaxis]\n",
    "        del data\n",
    "        # frame_recording.append(recording[0, params.NUM_BG_FRAMES::params.NUM_FRAME_DELTA])\n",
    "        # bg_recording.append(recording[0, :params.NUM_BG_FRAMES])\n",
    "        if not invert_xaxis_vid:\n",
    "            frame_recording.append(recording[0, params.NUM_BG_FRAMES+10::params.NUM_FRAME_DELTA])\n",
    "            bg_recording.append(recording[0, params.NUM_BG_FRAMES: params.NUM_BG_FRAMES+10])\n",
    "        else:\n",
    "            frame_recording.append(recording[0, params.NUM_BG_FRAMES+10::params.NUM_FRAME_DELTA][:, :, ::-1])\n",
    "            bg_recording.append(recording[0, params.NUM_BG_FRAMES: params.NUM_BG_FRAMES+10][:, :, ::-1])\n",
    "        del recording\n",
    "    else:\n",
    "        frame_recording.append(np.zeros((1,512,640)))\n",
    "        bg_recording.append(np.zeros((10,512,640)))\n",
    "    \n",
    "min_frames = min([x.shape[0] for x in frame_recording])\n",
    "frame_recording = [x[:min_frames] for x in frame_recording]\n",
    "frame_recording = np.array(frame_recording)\n",
    "bg_recording = np.array(bg_recording)\n",
    "\n",
    "# Load Mask"
   ]
  },
  {
   "cell_type": "code",
   "execution_count": 109,
   "metadata": {},
   "outputs": [
    {
     "data": {
      "image/png": "[encoded data removed]",
      "text/plain": [
       "<Figure size 640x480 with 1 Axes>"
      ]
     },
     "metadata": {},
     "output_type": "display_data"
    }
   ],
   "source": [
    "data = np.load(os.path.join(workspace_path, 'DATA', 'object_study_raw', video_filename), allow_pickle=True)\n",
    "recording = data[\"frame_recording\"][0]\n",
    "\n",
    "\n",
    "mask = cv2.imread(os.path.join(workspace_path,'image.png'), cv2.IMREAD_UNCHANGED)\n",
    "mask = mask[:, :, 3]\n",
    "target_height, target_width = recording.shape[1:3]\n",
    "resized_mask = cv2.resize(mask, (target_width, target_height), interpolation=cv2.INTER_NEAREST)\n",
    "\n",
    "binary_mask = (resized_mask > 0).astype(bool)  # Optional: use np.bool_ if needed\n",
    "# Save as .npy\n",
    "mask_save_path = os.path.join(workspace_path, 'mask.npy')\n",
    "np.save(mask_save_path, binary_mask)\n",
    "\n",
    "plt.imshow(binary_mask, cmap='gray')\n",
    "plt.title(\"Binary Mask from Alpha Channel\")\n",
    "plt.axis('off')\n",
    "plt.show()"
   ]
  },
  {
   "cell_type": "code",
   "execution_count": 78,
   "metadata": {},
   "outputs": [
    {
     "name": "stdout",
     "output_type": "stream",
     "text": [
      "/home/chexu/shape-from-heat/DATA/obj_study_proc/bear-v34-0-left-rad1-tlin0-2023-10-16_13-14-39_mask.png\n",
      "here\n",
      "/home/chexu/shape-from-heat/DATA/obj_study_proc/bear-v34-1-right-rad1-tlin0-2023-10-16_13-07-11_mask.png\n",
      "here\n"
     ]
    },
    {
     "data": {
      "image/png": "[encoded data removed]",
      "text/plain": [
       "<Figure size 640x480 with 1 Axes>"
      ]
     },
     "metadata": {},
     "output_type": "display_data"
    }
   ],
   "source": [
    "frame_mask = []\n",
    "for video_filename in video_filenames:\n",
    "    mask_filename = video_filename.split('.')[0] + '_mask.png'\n",
    "    mask_filepath = os.path.join(workspace_path, 'DATA', 'obj_study_proc', mask_filename)\n",
    "    print(mask_filepath)\n",
    "    png_file = True\n",
    "    # Check if mask file exists\n",
    "    # if not os.path.exists(mask_filepath):\n",
    "    #     mask_filename = video_filename.split('.')[0] + '_mask.pkl'\n",
    "    #     mask_filepath = os.path.join(workspace_path, 'DATA', 'obj_study_proc', mask_filename)\n",
    "    #     png_file = False\n",
    "    try:\n",
    "        if not png_file:\n",
    "            print('Loading mask from {}'.format(mask_filepath))\n",
    "            with open(mask_filepath, 'rb') as f:\n",
    "                mask_dict = pkl.load(f)\n",
    "                if not params.use_same_mask_for_all_videos:\n",
    "                    frame_mask.append(mask_dict['mask'])\n",
    "                else:\n",
    "                    frame_mask = [mask_dict['mask']] * len(video_filenames)\n",
    "                print('Loaded mask with mean {} and stdrange = {}'.format(mask_dict['mean'], mask_dict['stdrange']))\n",
    "                del mask_dict\n",
    "        else:\n",
    "            # mask = cv2.imread(mask_filepath, 0)/255.0\n",
    "            mask = np.load(os.path.join(workspace_path,'mask.npy'), allow_pickle=True)\n",
    "            mask = mask.astype(int)\n",
    "            frame_mask.append(mask)\n",
    "    except Exception as e:\n",
    "        print(e)\n",
    "        continue\n",
    "frame_mask = np.array(frame_mask)\n",
    "combined_mask = np.any(frame_mask, axis=0)\n",
    "plt.imshow(combined_mask, cmap='gray')\n",
    "plt.show()\n",
    "view_masks_forobj = np.stack(frame_mask, axis=0).astype(int)\n",
    "if params.use_symmetry_for_backside:\n",
    "    flipped_mask = []\n",
    "    for i in range(view_masks_forobj.shape[0]):\n",
    "        flipped_mask.append(np.fliplr(view_masks_forobj[i]))\n",
    "    flipped_mask = np.stack(flipped_mask, axis=0)\n",
    "    view_masks_forobj = np.concatenate([view_masks_forobj, flipped_mask], axis=0)\n",
    "view_masks_forobj_pt = torch.tensor(view_masks_forobj).float().to(device)"
   ]
  },
  {
   "cell_type": "markdown",
   "metadata": {},
   "source": [
    "# Preprocessing"
   ]
  },
  {
   "cell_type": "markdown",
   "metadata": {},
   "source": [
    "## Ambient Removal"
   ]
  },
  {
   "cell_type": "code",
   "execution_count": 110,
   "metadata": {},
   "outputs": [],
   "source": [
    "if params.offset_roi_to_amb:\n",
    "\n",
    "    offset_counts = -np.mean(bg_recording[:, :params.NUM_BG_FRAMES], axis=1, keepdims=True) + temp2counts(constants.AMBIENT_TEMP, constants.CAMERA)\n",
    "    frame_recording = frame_recording + offset_counts"
   ]
  },
  {
   "cell_type": "markdown",
   "metadata": {},
   "source": [
    "## Counts to Temperature "
   ]
  },
  {
   "cell_type": "code",
   "execution_count": 111,
   "metadata": {},
   "outputs": [
    {
     "name": "stderr",
     "output_type": "stream",
     "text": [
      "100%|█████████████████████████████████████████████| 90/90 [00:00<00:00, 203.63it/s]\n",
      "100%|█████████████████████████████████████████████| 90/90 [00:00<00:00, 183.63it/s]\n"
     ]
    }
   ],
   "source": [
    "frames_temp = []\n",
    "for k in range(len(frame_recording)):\n",
    "    frames_temp_view = []\n",
    "    for i in tqdm(range(0, frame_recording[k].shape[0], 1)):\n",
    "        out_temp = counts2temp(frame_recording[k][i].copy(), constants.CAMERA)\n",
    "        frames_temp_view.append(out_temp)\n",
    "    frames_temp_view = np.array(frames_temp_view)\n",
    "    frames_temp.append(frames_temp_view)\n",
    "frames_temp = np.array(frames_temp)\n",
    "\n",
    "if params.use_symmetry_for_backside:\n",
    "    all_back_videos = []\n",
    "    for i in range(frames_temp.shape[0]):\n",
    "        back_video = []\n",
    "        for j in range(frames_temp.shape[1]):\n",
    "            back_video.append(cv2.flip(frames_temp[i, j], 1))\n",
    "        back_video = np.array(back_video)\n",
    "        all_back_videos.append(back_video)\n",
    "    all_back_videos = np.array(all_back_videos)\n",
    "    frames_temp = np.concatenate((frames_temp, all_back_videos), axis=0)\n",
    "    del back_video\n",
    "\n",
    "del frame_recording"
   ]
  },
  {
   "cell_type": "code",
   "execution_count": 112,
   "metadata": {},
   "outputs": [
    {
     "name": "stdout",
     "output_type": "stream",
     "text": [
      "(2, 90, 512, 640) (2, 512, 640)\n"
     ]
    }
   ],
   "source": [
    "print(frames_temp.shape, view_masks_forobj.shape)"
   ]
  },
  {
   "attachments": {},
   "cell_type": "markdown",
   "metadata": {},
   "source": [
    "## Vis Mask Over Frames"
   ]
  },
  {
   "cell_type": "code",
   "execution_count": 123,
   "metadata": {},
   "outputs": [
    {
     "name": "stdout",
     "output_type": "stream",
     "text": [
      "(2, 90, 512, 640)\n",
      "(2, 90, 512, 640)\n"
     ]
    },
    {
     "data": {
      "image/png": "[encoded data removed]",
      "text/plain": [
       "<Figure size 640x480 with 1 Axes>"
      ]
     },
     "metadata": {},
     "output_type": "display_data"
    },
    {
     "data": {
      "application/vnd.jupyter.widget-view+json": {
       "model_id": "ff29d99ce6854cd98f08992568f1f862",
       "version_major": 2,
       "version_minor": 0
      },
      "text/plain": [
       "interactive(children=(IntSlider(value=0, description='val', max=89), Output()), _dom_classes=('widget-interact…"
      ]
     },
     "metadata": {},
     "output_type": "display_data"
    },
    {
     "data": {
      "text/plain": [
       "<function __main__.update(val)>"
      ]
     },
     "execution_count": 123,
     "metadata": {},
     "output_type": "execute_result"
    }
   ],
   "source": [
    "plt.close('all')\n",
    "fig = plt.figure()\n",
    "# Use a slider and plot heat flow at different time steps for u_real_pixels_msize using matplotlib\n",
    "# Update matplotlib plot with new heat values based on slider value\n",
    "ax = fig.add_subplot(1, 1, 1)\n",
    "print(frames_temp.shape)\n",
    "ax.imshow(frames_temp[-1,0]*view_masks_forobj[-1], cmap='hot')\n",
    "\n",
    "vindx = np.where(view_masks_forobj[-1])\n",
    "vmin = np.min(frames_temp[:, :, vindx[0], vindx[1]])\n",
    "vmax = np.max(frames_temp[:, :, vindx[0], vindx[1]])\n",
    "def update(val):\n",
    "    ax.clear()\n",
    "    ax.imshow(frames_temp[-1, int(val)]*view_masks_forobj[-1], cmap='hot', vmin=vmin, vmax=vmax)\n",
    "    # ax.imshow(frames_temp[0, int(val)], cmap='hot')\n",
    "    # ax.set_title('Heat flow at t = {}, \\n min-temp={:.2f} max-temp={:.2f}'.format(int(val), vmin, vmax))\n",
    "    ax.set_title('Heat flow at t = {}, \\n min-temp={:.2f} max-temp={:.2f}'.format(int(val), np.min(frames_temp[0, int(val), vindx[0], vindx[1]]), np.max(frames_temp[0, int(val), vindx[0], vindx[1]])))\n",
    "    ax.axis('off')\n",
    "    fig.canvas.draw()\n",
    "    display(fig)\n",
    "\n",
    "print(frames_temp.shape)\n",
    "\n",
    "interact(update, val=widgets.IntSlider(min=0, max=frames_temp.shape[1]-1, step=1, value=0))"
   ]
  },
  {
   "cell_type": "code",
   "execution_count": 124,
   "metadata": {},
   "outputs": [],
   "source": [
    "FRAME_START = None\n",
    "FRAME_END = None\n",
    "if FRAME_START is not None or FRAME_END is not None:\n",
    "    frames_temp = frames_temp[:, FRAME_START:FRAME_END]"
   ]
  },
  {
   "cell_type": "code",
   "execution_count": 125,
   "metadata": {},
   "outputs": [],
   "source": [
    "shading_params = {\n",
    "    \"width\": 600, \"height\": 600,\n",
    "    \"antialias\": True,\n",
    "    \"colormap\": \"viridis\",\n",
    "    \"wireframe\": False, \"wire_width\": 0.03, \"wire_color\": \"black\"\n",
    "}"
   ]
  },
  {
   "attachments": {},
   "cell_type": "markdown",
   "metadata": {},
   "source": [
    "### Render N views"
   ]
  },
  {
   "cell_type": "code",
   "execution_count": 126,
   "metadata": {},
   "outputs": [
    {
     "name": "stdout",
     "output_type": "stream",
     "text": [
      "tensor([0.]) tensor([0.])\n",
      "tensor([[0.0000, 0.0000, 0.4445]])\n"
     ]
    }
   ],
   "source": [
    "with torch.no_grad():\n",
    "    \n",
    "    # Get a batch of viewing angles. \n",
    "    elev = torch.from_numpy(np.array(views_elev_angles)).to(dtype=torch.float, device=device)\n",
    "    azim = torch.from_numpy(np.array(views_azim_angles)).to(dtype=torch.float, device=device)\n",
    "        \n",
    "    if params.use_symmetry_for_backside or params.front_back_videos:\n",
    "        views_elev_angles = np.concatenate([np.array(views_elev_angles), np.array(views_elev_angles)], axis=0)\n",
    "        views_azim_angles = np.concatenate([np.array(views_azim_angles), np.array(views_azim_angles) + 180], axis=0)\n",
    "        elev = torch.from_numpy(np.array(views_elev_angles)).to(dtype=torch.float, device=device)\n",
    "        azim = torch.from_numpy(np.array(views_azim_angles)).to(dtype=torch.float, device=device)\n",
    "\n",
    "\n",
    "    print(elev, azim)\n",
    "    R, T = look_at_view_transform(dist=params.obj_dist, elev=elev, azim=azim, device=device, degrees=True)\n",
    "    if params.use_orthographic_cam_opti:\n",
    "        cameras = FoVOrthographicCameras(device=device, R=R, T=T, znear=params.znear, zfar=params.zfar)\n",
    "    else:\n",
    "        cameras = get_perspective_camera(params.start_img_size, constants.HFOV, constants.VFOV, R, T, device)\n",
    "        \n",
    "\n",
    "    print(cameras.get_camera_center())"
   ]
  },
  {
   "attachments": {},
   "cell_type": "markdown",
   "metadata": {},
   "source": [
    "# Optimization"
   ]
  },
  {
   "cell_type": "markdown",
   "metadata": {},
   "source": [
    "## Laplacian-Opti Macros"
   ]
  },
  {
   "cell_type": "code",
   "execution_count": 127,
   "metadata": {},
   "outputs": [],
   "source": [
    "Lopti_params_dict = {\n",
    "    \"num_iterations\": 20000, #10000  # Number of optimization steps\n",
    "    \"learning_rate\": 1e-2,  # Step size\n",
    "    # Hyperparameter lambda of our method, used to compute the matrix (I + lambda_*L)\n",
    "    \"lambda_\": 19,\n",
    "    \"lambda_pde\": 1.0,\n",
    "    \"lambda_heat_reg\": 1.0,#1e-2, #1.0,\n",
    "    \"lr_step_size\": 7000,\n",
    "    \"lr_gamma\": 0.5,\n",
    "    \"min_theta\": np.radians(0.0),\n",
    "    \"max_theta\": np.radians(180.0),\n",
    "    \"add_gaussian_curv_smoothing\": 0,\n",
    "    \"lambda_gcurv\": 1e-3,\n",
    "    \"min_edge_length\": 0.0001,\n",
    "}\n",
    "\n",
    "Lopti_params = types.SimpleNamespace(**Lopti_params_dict)"
   ]
  },
  {
   "cell_type": "markdown",
   "metadata": {},
   "source": [
    "## Shape-Opti Macros"
   ]
  },
  {
   "cell_type": "code",
   "execution_count": 128,
   "metadata": {},
   "outputs": [],
   "source": [
    "Sopti_params_dict = {\n",
    "    \"num_iterations\": 2600, #45*20, #50*20, #25*20, #45*20, #45*20, #45*20, #2600, #10000  # Number of optimization steps\n",
    "    \"lambda_sdotn\": 0.0,\n",
    "\n",
    "    \"learning_rate\": 1e-2,  # Step size\n",
    "    # Hyperparameter lambda of our method, used to compute the matrix (I + lambda_*L)\n",
    "    \"lambda_\": 5,\n",
    "    \"lambda_pde\": 1.0,\n",
    "    \"add_willmore_loss\": 0,\n",
    "    \"willmore_reg\": 1.0, #1e3,\n",
    "    \"lambda_MinvLreg\": 0.1,\n",
    "    \"reduce_willmore_lambda\": 1,\n",
    "    \"reduce_willmore_steps\": 1000,\n",
    "    \"mesh_edge_reg\": 0.0,\n",
    "    \"normal_reg\": 0.01,  # 10.0 #0.2 #10.0\n",
    "    \"laplacian_reg\": 0.0, #0.5,  # 10 # 1.0\n",
    "    \"lambda_heat_reg\": 1.0,\n",
    "    \"lambda_curv_sign\": 1.0,\n",
    "    \"lambda_normal_halfspace\": 10.0, # 1e-3,\n",
    "    \"num_steps_for_halfspace_const\": -1, #3000,\n",
    "    \"reduce_normal_halfspace_lambda\": 1,\n",
    "    \"reduce_normal_halfspace_steps\": 100,\n",
    "    \n",
    "    \"toggle_halfspace_const\": 0,\n",
    "    \"toggle_halfspace_const_steps\": 1000,\n",
    "\n",
    "    \"boundary_normal_const\": 0,\n",
    "    \"invert_boundary_normal_dir\": 0,\n",
    "    \"lambda_boundary_normal\": 1e-8,\n",
    "\n",
    "    \"lr_step_size\": 7000,\n",
    "    \"lr_gamma\": 0.5,\n",
    "    \"heat_source_opti\": 0,\n",
    "    \"heat_value_opti\": 0,\n",
    "    \"heat_capacity_opti\": 0,\n",
    "    \"convection_coeff_opti\": 0,\n",
    "\n",
    "    \"reduce_diffusivity\": 0,\n",
    "    \"opti_close_to_init_mesh\": 0,\n",
    "    \"lambda_reg_init_mesh\": 1.0,\n",
    "    \"lambda_symmetric_verts\": 1e4,\n",
    "    \"num_steps_for_symmetric_verts\": 1000,\n",
    "    \"lambda_normal_flipping\": 1.0,\n",
    "    \"activate_normal_reg_after_step\": 2000,\n",
    "    \"activate_laplacian_reg_after_step\": 500,\n",
    "\n",
    "    'pre_final_stage_sizes': [], #[(32, 40), (64,80)],\n",
    "    'pre_final_stage_iterations': [1000] #[86*20], #[114*20], #[40], #[4*20], #[40],\n",
    "    \n",
    "}\n",
    "\n",
    "Sopti_params = types.SimpleNamespace(**Sopti_params_dict)"
   ]
  },
  {
   "cell_type": "markdown",
   "metadata": {},
   "source": [
    "## Exp-name"
   ]
  },
  {
   "cell_type": "code",
   "execution_count": 129,
   "metadata": {},
   "outputs": [
    {
     "name": "stdout",
     "output_type": "stream",
     "text": [
      "bear-v34-0-left-rad1-tlin0-2023-10-16_13-14-39-test-v1\n"
     ]
    }
   ],
   "source": [
    "exp_name = video_filenames[0].split('.')[0]\n",
    "experiment = {}\n",
    "experiment['Filename'] = filename\n",
    "experiment['Exp-name'] = exp_name\n",
    "\n",
    "# Add all variables in params and Sopti_params classes to experiment\n",
    "for k, v in params.__dict__.items():\n",
    "    if type(v) in [int, float] and not k.startswith('__'):\n",
    "        experiment[k] = v\n",
    "\n",
    "for k, v in Sopti_params.__dict__.items():\n",
    "    if type(v) in [int, float] and not k.startswith('__'):\n",
    "        experiment['Sopti-'+k] = v\n",
    "\n",
    "\n",
    "exp_name += '-test-v1'\n",
    "# exp_name += '-beforeconf-wheatsource-v12'\n",
    "print(exp_name)"
   ]
  },
  {
   "cell_type": "markdown",
   "metadata": {},
   "source": [
    "## Run Optimization"
   ]
  },
  {
   "cell_type": "code",
   "execution_count": 131,
   "metadata": {},
   "outputs": [
    {
     "name": "stdout",
     "output_type": "stream",
     "text": [
      "Current image size: (64, 80), stage num: 0\n"
     ]
    },
    {
     "data": {
      "image/png": "[encoded data removed]",
      "text/plain": [
       "<Figure size 640x480 with 1 Axes>"
      ]
     },
     "metadata": {},
     "output_type": "display_data"
    },
    {
     "ename": "AttributeError",
     "evalue": "module 'pymesh' has no attribute 'form_mesh'",
     "output_type": "error",
     "traceback": [
      "\u001b[0;31m---------------------------------------------------------------------------\u001b[0m",
      "\u001b[0;31mAttributeError\u001b[0m                            Traceback (most recent call last)",
      "Cell \u001b[0;32mIn[131], line 5\u001b[0m\n\u001b[1;32m      1\u001b[0m writer \u001b[38;5;241m=\u001b[39m tb\u001b[38;5;241m.\u001b[39mSummaryWriter(log_dir\u001b[38;5;241m=\u001b[39mos\u001b[38;5;241m.\u001b[39mpath\u001b[38;5;241m.\u001b[39mjoin(workspace_path, \u001b[38;5;124m'\u001b[39m\u001b[38;5;124mtb-logs\u001b[39m\u001b[38;5;124m'\u001b[39m, filename, exp_name))\n\u001b[1;32m      3\u001b[0m light_xyhalfspace_loc \u001b[38;5;241m=\u001b[39m [light_xhalfspace_loc, light_yhalfspace_loc]\n\u001b[0;32m----> 5\u001b[0m \u001b[43mrunShapeOptimization\u001b[49m\u001b[43m(\u001b[49m\u001b[43mvideo_filenames\u001b[49m\u001b[43m[\u001b[49m\u001b[38;5;241;43m0\u001b[39;49m\u001b[43m]\u001b[49m\u001b[38;5;241;43m.\u001b[39;49m\u001b[43msplit\u001b[49m\u001b[43m(\u001b[49m\u001b[38;5;124;43m'\u001b[39;49m\u001b[38;5;124;43m.\u001b[39;49m\u001b[38;5;124;43m'\u001b[39;49m\u001b[43m)\u001b[49m\u001b[43m[\u001b[49m\u001b[38;5;241;43m0\u001b[39;49m\u001b[43m]\u001b[49m\u001b[43m,\u001b[49m\u001b[43m \u001b[49m\u001b[43mparams\u001b[49m\u001b[43m,\u001b[49m\u001b[43m \u001b[49m\u001b[43mR\u001b[49m\u001b[43m,\u001b[49m\u001b[43m \u001b[49m\u001b[43mT\u001b[49m\u001b[43m,\u001b[49m\u001b[43m \u001b[49m\u001b[43mview_masks_forobj\u001b[49m\u001b[43m,\u001b[49m\u001b[43m \u001b[49m\u001b[43mframes_temp\u001b[49m\u001b[43m,\u001b[49m\u001b[43m \u001b[49m\u001b[43mLopti_params\u001b[49m\u001b[43m,\u001b[49m\u001b[43m \u001b[49m\u001b[43mSopti_params\u001b[49m\u001b[43m,\u001b[49m\u001b[43m \u001b[49m\u001b[43mwriter\u001b[49m\u001b[43m,\u001b[49m\u001b[43m \u001b[49m\u001b[43mfilename\u001b[49m\u001b[43m,\u001b[49m\u001b[43m \u001b[49m\u001b[43mexp_name\u001b[49m\u001b[43m,\u001b[49m\u001b[43m \u001b[49m\u001b[43mlight_xyhalfspace_loc\u001b[49m\u001b[43m)\u001b[49m\n\u001b[1;32m      7\u001b[0m writer\u001b[38;5;241m.\u001b[39mclose()\n",
      "File \u001b[0;32m~/shape-from-heat/lib/optimization/pipeline.py:95\u001b[0m, in \u001b[0;36mrunShapeOptimization\u001b[0;34m(video_name, params, R, T, view_masks_forobj, frames_temp, Lopti_params, Sopti_params, writer, filename, exp_name, light_xyhalfspace_loc)\u001b[0m\n\u001b[1;32m     92\u001b[0m plt\u001b[38;5;241m.\u001b[39mshow()\n\u001b[1;32m     94\u001b[0m \u001b[38;5;66;03m# Prepare candidate mesh\u001b[39;00m\n\u001b[0;32m---> 95\u001b[0m \u001b[43mopti_wrapper\u001b[49m\u001b[38;5;241;43m.\u001b[39;49m\u001b[43mprepare_candidate_mesh\u001b[49m\u001b[43m(\u001b[49m\u001b[43mview_masks_resized\u001b[49m\u001b[43m[\u001b[49m\u001b[38;5;241;43m0\u001b[39;49m\u001b[43m]\u001b[49m\u001b[38;5;241;43m.\u001b[39;49m\u001b[43mcopy\u001b[49m\u001b[43m(\u001b[49m\u001b[43m)\u001b[49m\u001b[43m,\u001b[49m\u001b[43m \u001b[49m\u001b[43mdepth_map\u001b[49m\u001b[43m[\u001b[49m\u001b[38;5;241;43m0\u001b[39;49m\u001b[43m]\u001b[49m\u001b[43m)\u001b[49m\n\u001b[1;32m     96\u001b[0m opti_wrapper\u001b[38;5;241m.\u001b[39mmap_heatvalues_tomesh(frames_temp)\n\u001b[1;32m     98\u001b[0m \u001b[38;5;66;03m# Run Laplacian optimization if needed\u001b[39;00m\n",
      "File \u001b[0;32m~/shape-from-heat/lib/optimization/wrapper.py:35\u001b[0m, in \u001b[0;36mOptimizationWrapper.prepare_candidate_mesh\u001b[0;34m(self, view_mask, depth_map)\u001b[0m\n\u001b[1;32m     33\u001b[0m \u001b[38;5;28;01mdef\u001b[39;00m\u001b[38;5;250m \u001b[39m\u001b[38;5;21mprepare_candidate_mesh\u001b[39m(\u001b[38;5;28mself\u001b[39m, view_mask: np\u001b[38;5;241m.\u001b[39mndarray, depth_map: Optional[np\u001b[38;5;241m.\u001b[39mndarray] \u001b[38;5;241m=\u001b[39m \u001b[38;5;28;01mNone\u001b[39;00m) \u001b[38;5;241m-\u001b[39m\u001b[38;5;241m>\u001b[39m \u001b[38;5;28;01mNone\u001b[39;00m:\n\u001b[1;32m     34\u001b[0m \u001b[38;5;250m    \u001b[39m\u001b[38;5;124;03m\"\"\"Prepare candidate mesh for optimization.\"\"\"\u001b[39;00m\n\u001b[0;32m---> 35\u001b[0m     \u001b[38;5;28;43mself\u001b[39;49m\u001b[38;5;241;43m.\u001b[39;49m\u001b[43moptimizer\u001b[49m\u001b[38;5;241;43m.\u001b[39;49m\u001b[43mprepare_candidate_mesh\u001b[49m\u001b[43m(\u001b[49m\u001b[43mview_mask\u001b[49m\u001b[43m,\u001b[49m\u001b[43m \u001b[49m\u001b[43mdepth_map\u001b[49m\u001b[43m)\u001b[49m\n",
      "File \u001b[0;32m~/shape-from-heat/lib/optimization/base.py:86\u001b[0m, in \u001b[0;36mBaseOptimizationClass.prepare_candidate_mesh\u001b[0;34m(self, mask, depth)\u001b[0m\n\u001b[1;32m     84\u001b[0m \u001b[38;5;28;01mdef\u001b[39;00m\u001b[38;5;250m \u001b[39m\u001b[38;5;21mprepare_candidate_mesh\u001b[39m(\u001b[38;5;28mself\u001b[39m, mask\u001b[38;5;241m=\u001b[39m\u001b[38;5;28;01mNone\u001b[39;00m, depth\u001b[38;5;241m=\u001b[39m\u001b[38;5;28;01mNone\u001b[39;00m):\n\u001b[1;32m     85\u001b[0m     \u001b[38;5;28;01mif\u001b[39;00m \u001b[38;5;28mself\u001b[39m\u001b[38;5;241m.\u001b[39mparams\u001b[38;5;241m.\u001b[39minit_mesh_from_mask:\n\u001b[0;32m---> 86\u001b[0m         \u001b[38;5;28;43mself\u001b[39;49m\u001b[38;5;241;43m.\u001b[39;49m\u001b[43mget_mesh_from_mask\u001b[49m\u001b[43m(\u001b[49m\u001b[43mmask\u001b[49m\u001b[43m,\u001b[49m\u001b[43m \u001b[49m\u001b[43mdepth\u001b[49m\u001b[43m)\u001b[49m\n\u001b[1;32m     87\u001b[0m         boundary_vertices \u001b[38;5;241m=\u001b[39m gpytoolbox\u001b[38;5;241m.\u001b[39mboundary_vertices(\u001b[38;5;28mself\u001b[39m\u001b[38;5;241m.\u001b[39mfaces_sim_np)\n\u001b[1;32m     88\u001b[0m         \u001b[38;5;28mself\u001b[39m\u001b[38;5;241m.\u001b[39mboundary_vertices \u001b[38;5;241m=\u001b[39m torch\u001b[38;5;241m.\u001b[39mfrom_numpy(boundary_vertices)\u001b[38;5;241m.\u001b[39mto(\u001b[38;5;28mself\u001b[39m\u001b[38;5;241m.\u001b[39mdevice)\u001b[38;5;241m.\u001b[39mlong()\n",
      "File \u001b[0;32m~/shape-from-heat/lib/optimization/base.py:130\u001b[0m, in \u001b[0;36mBaseOptimizationClass.get_mesh_from_mask\u001b[0;34m(self, mask, depth)\u001b[0m\n\u001b[1;32m    126\u001b[0m init_xyz \u001b[38;5;241m=\u001b[39m \u001b[38;5;28mself\u001b[39m\u001b[38;5;241m.\u001b[39mcameras\u001b[38;5;241m.\u001b[39munproject_points(init_xy_depth\u001b[38;5;241m.\u001b[39mfloat(), world_coordinates\u001b[38;5;241m=\u001b[39m\u001b[38;5;28;01mTrue\u001b[39;00m)\n\u001b[1;32m    128\u001b[0m verts_sim_np \u001b[38;5;241m=\u001b[39m init_xyz\u001b[38;5;241m.\u001b[39mcpu()\u001b[38;5;241m.\u001b[39mnumpy()\n\u001b[0;32m--> 130\u001b[0m pmesh \u001b[38;5;241m=\u001b[39m \u001b[43mpymesh\u001b[49m\u001b[38;5;241;43m.\u001b[39;49m\u001b[43mform_mesh\u001b[49m(verts_sim_np\u001b[38;5;241m.\u001b[39mcopy(), faces_sim_np\u001b[38;5;241m.\u001b[39mcopy())\n\u001b[1;32m    131\u001b[0m pmesh, info \u001b[38;5;241m=\u001b[39m pymesh\u001b[38;5;241m.\u001b[39mremove_isolated_vertices(pmesh)\n\u001b[1;32m    132\u001b[0m faces_sim_np \u001b[38;5;241m=\u001b[39m pmesh\u001b[38;5;241m.\u001b[39mfaces\n",
      "\u001b[0;31mAttributeError\u001b[0m: module 'pymesh' has no attribute 'form_mesh'"
     ]
    }
   ],
   "source": [
    "writer = tb.SummaryWriter(log_dir=os.path.join(workspace_path, 'tb-logs', filename, exp_name))\n",
    "\n",
    "light_xyhalfspace_loc = [light_xhalfspace_loc, light_yhalfspace_loc]\n",
    "\n",
    "runShapeOptimization(video_filenames[0].split('.')[0], params, R, T, view_masks_forobj, frames_temp, Lopti_params, Sopti_params, writer, filename, exp_name, light_xyhalfspace_loc)\n",
    "\n",
    "writer.close()\n"
   ]
  },
  {
   "cell_type": "code",
   "execution_count": null,
   "metadata": {},
   "outputs": [],
   "source": []
  }
 ],
 "metadata": {
  "kernelspec": {
   "display_name": "Python 3 (ipykernel)",
   "language": "python",
   "name": "python3"
  },
  "language_info": {
   "codemirror_mode": {
    "name": "ipython",
    "version": 3
   },
   "file_extension": ".py",
   "mimetype": "text/x-python",
   "name": "python",
   "nbconvert_exporter": "python",
   "pygments_lexer": "ipython3",
   "version": "3.10.16"
  },
  "vscode": {
   "interpreter": {
    "hash": "c21fd4a275130b9261115b0246ac53a7fc9043c818d241ef7ce4dbe51512ba03"
   }
  }
 },
 "nbformat": 4,
 "nbformat_minor": 4
}
